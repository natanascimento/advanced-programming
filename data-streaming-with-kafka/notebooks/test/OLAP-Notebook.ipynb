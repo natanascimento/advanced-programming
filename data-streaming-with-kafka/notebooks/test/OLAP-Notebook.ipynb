{
 "cells": [
  {
   "cell_type": "code",
   "execution_count": 58,
   "id": "dc64e843",
   "metadata": {},
   "outputs": [],
   "source": [
    "from pyspark.sql import SparkSession\n",
    "from pyspark.sql.types import *"
   ]
  },
  {
   "cell_type": "code",
   "execution_count": 59,
   "id": "95383f17",
   "metadata": {},
   "outputs": [],
   "source": [
    "spark = SparkSession.builder.appName('myAppName').getOrCreate()"
   ]
  },
  {
   "cell_type": "code",
   "execution_count": 80,
   "id": "c525a8da",
   "metadata": {},
   "outputs": [],
   "source": [
    "schema = StructType().add(\"customer_id\", \"string\").add(\"customer_username\", \"string\").add(\"customer_name\", \"string\")\\\n",
    "                    .add(\"customer_gender\", \"string\").add(\"customer_address\", \"string\")\\\n",
    "                    .add(\"customer_purchase_price\", \"string\").add(\"customer_country\", \"string\")\\\n",
    "                    .add(\"createdAt\", \"string\")"
   ]
  },
  {
   "cell_type": "code",
   "execution_count": 81,
   "id": "1d88e7ef",
   "metadata": {},
   "outputs": [],
   "source": [
    "df = spark.read.option(\"header\", \"true\").schema(schema).csv('data/my_csv.csv')"
   ]
  },
  {
   "cell_type": "code",
   "execution_count": 82,
   "id": "d9f0fd2c",
   "metadata": {},
   "outputs": [
    {
     "name": "stdout",
     "output_type": "stream",
     "text": [
      "+--------------------+-----------------+------------------+---------------+--------------------+-----------------------+--------------------+-------------------+\n",
      "|         customer_id|customer_username|     customer_name|customer_gender|    customer_address|customer_purchase_price|    customer_country|          createdAt|\n",
      "+--------------------+-----------------+------------------+---------------+--------------------+-----------------------+--------------------+-------------------+\n",
      "|65c250a9-d28f-498...|  russellsandoval|      Laura Hansen|              F|Unit 4703 Box 943...|             $46,581.80|            Slovenia|31/05/2021 14:38:49|\n",
      "|         customer_id|customer_username|     customer_name|customer_gender|    customer_address|   customer_purchase...|    customer_country|          createdAt|\n",
      "|d19afc5d-45d5-437...|     brentwoodard|      Kelsey Combs|              F|061 Alexandra Wal...|                $183.69|               Niger|31/05/2021 14:38:49|\n",
      "|         customer_id|customer_username|     customer_name|customer_gender|    customer_address|   customer_purchase...|    customer_country|          createdAt|\n",
      "|2ee807bc-02c9-431...|    vickifigueroa|     Rodney Morgan|              M|189 Terri Union S...|                $229.43|United States of ...|31/05/2021 14:38:49|\n",
      "|         customer_id|customer_username|     customer_name|customer_gender|    customer_address|   customer_purchase...|    customer_country|          createdAt|\n",
      "|75d2e8c3-0298-47d...|      emmamichael|     James Nichols|              M|40239 Lewis Valle...|                  $2.91|            Cameroon|31/05/2021 14:38:49|\n",
      "|         customer_id|customer_username|     customer_name|customer_gender|    customer_address|   customer_purchase...|    customer_country|          createdAt|\n",
      "|f08f7d3b-9a5f-4d0...|williamsonjessica|Jacqueline Bennett|              F|Unit 7553 Box 706...|                $305.57|               Chile|31/05/2021 14:38:49|\n",
      "|         customer_id|customer_username|     customer_name|customer_gender|    customer_address|   customer_purchase...|    customer_country|          createdAt|\n",
      "|f27a103a-abad-4e2...|      brentlawson|     Kelly Parsons|              F|000 Levine Traffi...|                 $18.43|            Cameroon|31/05/2021 14:38:50|\n",
      "|         customer_id|customer_username|     customer_name|customer_gender|    customer_address|   customer_purchase...|    customer_country|          createdAt|\n",
      "|cc8759ac-6ebf-493...|      ywashington|      Ashley Brown|              F|26495 Johnson Lod...|             $69,607.90|               Sudan|31/05/2021 14:38:50|\n",
      "|         customer_id|customer_username|     customer_name|customer_gender|    customer_address|   customer_purchase...|    customer_country|          createdAt|\n",
      "|efdc7e8d-cc7b-454...|       karenwhite|  Mitchell Wilkins|              M|PSC 8910, Box 351...|              $2,802.45|            Slovenia|31/05/2021 14:38:50|\n",
      "|         customer_id|customer_username|     customer_name|customer_gender|    customer_address|   customer_purchase...|    customer_country|          createdAt|\n",
      "|bd2bea97-7f96-4ec...|    zimmermanjohn|    Anthony Morris|              M|5303 Mills Points...|                  $0.38|              Taiwan|31/05/2021 14:38:50|\n",
      "|         customer_id|customer_username|     customer_name|customer_gender|    customer_address|   customer_purchase...|    customer_country|          createdAt|\n",
      "|a6b8f062-04d9-409...|        cookpaula|      Steven Allen|              M|387 Samuel Row - ...|              $4,839.94|               China|31/05/2021 14:38:51|\n",
      "|         customer_id|customer_username|     customer_name|customer_gender|    customer_address|   customer_purchase...|    customer_country|          createdAt|\n",
      "+--------------------+-----------------+------------------+---------------+--------------------+-----------------------+--------------------+-------------------+\n",
      "only showing top 20 rows\n",
      "\n"
     ]
    }
   ],
   "source": [
    "df.show()"
   ]
  },
  {
   "cell_type": "code",
   "execution_count": 83,
   "id": "3f24421d",
   "metadata": {},
   "outputs": [],
   "source": [
    "countryCount = df.groupBy('customer_country').count()"
   ]
  },
  {
   "cell_type": "code",
   "execution_count": 84,
   "id": "927d551b",
   "metadata": {},
   "outputs": [
    {
     "name": "stdout",
     "output_type": "stream",
     "text": [
      "+--------------------+-----+\n",
      "|    customer_country|count|\n",
      "+--------------------+-----+\n",
      "|                Chad|    2|\n",
      "|            Anguilla|    1|\n",
      "|               Macao|    1|\n",
      "|Heard Island and ...|    2|\n",
      "|               Yemen|    3|\n",
      "|              Sweden|    1|\n",
      "|             Tokelau|    2|\n",
      "|French Southern T...|    1|\n",
      "|            Kiribati|    2|\n",
      "|              Guyana|    2|\n",
      "|             Eritrea|    1|\n",
      "|         Philippines|    1|\n",
      "|      Norfolk Island|    3|\n",
      "|               Tonga|    1|\n",
      "|            Malaysia|    2|\n",
      "|                Fiji|    1|\n",
      "|              Turkey|    2|\n",
      "|United States Vir...|    1|\n",
      "|      Western Sahara|    1|\n",
      "|              Malawi|    1|\n",
      "+--------------------+-----+\n",
      "only showing top 20 rows\n",
      "\n"
     ]
    }
   ],
   "source": [
    "countryCount.show()"
   ]
  },
  {
   "cell_type": "code",
   "execution_count": null,
   "id": "626158db",
   "metadata": {},
   "outputs": [],
   "source": []
  }
 ],
 "metadata": {
  "kernelspec": {
   "display_name": "Python 3",
   "language": "python",
   "name": "python3"
  },
  "language_info": {
   "codemirror_mode": {
    "name": "ipython",
    "version": 3
   },
   "file_extension": ".py",
   "mimetype": "text/x-python",
   "name": "python",
   "nbconvert_exporter": "python",
   "pygments_lexer": "ipython3",
   "version": "3.9.4"
  }
 },
 "nbformat": 4,
 "nbformat_minor": 5
}
